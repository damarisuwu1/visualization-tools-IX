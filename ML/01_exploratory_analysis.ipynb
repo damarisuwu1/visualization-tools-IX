{
 "cells": [
  {
   "cell_type": "code",
   "execution_count": 1,
   "id": "a05f8391",
   "metadata": {},
   "outputs": [
    {
     "name": "stdout",
     "output_type": "stream",
     "text": [
      "DataFrames cargados exitosamente\n"
     ]
    }
   ],
   "source": [
    "import pandas as pd\n",
    "import json\n",
    "\n",
    "# Rutas a los archivos\n",
    "path_users = '../data/raw/users.csv'\n",
    "path_viewing = '../data/raw/viewing_sessions.csv'\n",
    "path_content = '../data/raw/content.json'\n",
    "\n",
    "# Cargar los datos de los archivos CSV en DataFrames\n",
    "df_users = pd.read_csv(path_users)\n",
    "df_viewing = pd.read_csv(path_viewing)\n",
    "\n",
    "# Cargar el archivo JSON\n",
    "with open(path_content, 'r') as f:\n",
    "    data_content = json.load(f)\n",
    "\n",
    "# Convertir el contenido del JSON en DataFrames\n",
    "movies_list = data_content['movies']\n",
    "series_list = data_content['series']\n",
    "df_movies = pd.DataFrame(movies_list)\n",
    "df_series = pd.DataFrame(series_list)\n",
    "\n",
    "print(\"DataFrames cargados exitosamente\")"
   ]
  },
  {
   "cell_type": "code",
   "execution_count": 2,
   "id": "851d678b",
   "metadata": {},
   "outputs": [
    {
     "name": "stdout",
     "output_type": "stream",
     "text": [
      "--- Información de df_users ---\n",
      "<class 'pandas.core.frame.DataFrame'>\n",
      "RangeIndex: 5000 entries, 0 to 4999\n",
      "Data columns (total 6 columns):\n",
      " #   Column                  Non-Null Count  Dtype  \n",
      "---  ------                  --------------  -----  \n",
      " 0   user_id                 5000 non-null   object \n",
      " 1   age                     5000 non-null   int64  \n",
      " 2   country                 5000 non-null   object \n",
      " 3   subscription_type       5000 non-null   object \n",
      " 4   registration_date       5000 non-null   object \n",
      " 5   total_watch_time_hours  5000 non-null   float64\n",
      "dtypes: float64(1), int64(1), object(4)\n",
      "memory usage: 234.5+ KB\n",
      "\n",
      "--- Información de df_viewing ---\n",
      "<class 'pandas.core.frame.DataFrame'>\n",
      "RangeIndex: 222785 entries, 0 to 222784\n",
      "Data columns (total 8 columns):\n",
      " #   Column                  Non-Null Count   Dtype  \n",
      "---  ------                  --------------   -----  \n",
      " 0   session_id              222785 non-null  object \n",
      " 1   user_id                 222785 non-null  object \n",
      " 2   content_id              222785 non-null  object \n",
      " 3   watch_date              222785 non-null  object \n",
      " 4   watch_duration_minutes  222785 non-null  int64  \n",
      " 5   completion_percentage   222785 non-null  float64\n",
      " 6   device_type             222785 non-null  object \n",
      " 7   quality_level           222785 non-null  object \n",
      "dtypes: float64(1), int64(1), object(6)\n",
      "memory usage: 13.6+ MB\n",
      "\n",
      "--- Información de df_movies ---\n",
      "<class 'pandas.core.frame.DataFrame'>\n",
      "RangeIndex: 200 entries, 0 to 199\n",
      "Data columns (total 8 columns):\n",
      " #   Column             Non-Null Count  Dtype  \n",
      "---  ------             --------------  -----  \n",
      " 0   content_id         200 non-null    object \n",
      " 1   title              200 non-null    object \n",
      " 2   genre              200 non-null    object \n",
      " 3   duration_minutes   200 non-null    int64  \n",
      " 4   release_year       200 non-null    int64  \n",
      " 5   rating             200 non-null    float64\n",
      " 6   views_count        200 non-null    int64  \n",
      " 7   production_budget  200 non-null    int64  \n",
      "dtypes: float64(1), int64(4), object(3)\n",
      "memory usage: 12.6+ KB\n",
      "\n",
      "--- Información de df_series ---\n",
      "<class 'pandas.core.frame.DataFrame'>\n",
      "RangeIndex: 100 entries, 0 to 99\n",
      "Data columns (total 9 columns):\n",
      " #   Column                Non-Null Count  Dtype  \n",
      "---  ------                --------------  -----  \n",
      " 0   content_id            100 non-null    object \n",
      " 1   title                 100 non-null    object \n",
      " 2   genre                 100 non-null    object \n",
      " 3   seasons               100 non-null    int64  \n",
      " 4   episodes_per_season   100 non-null    object \n",
      " 5   avg_episode_duration  100 non-null    int64  \n",
      " 6   rating                100 non-null    float64\n",
      " 7   total_views           100 non-null    int64  \n",
      " 8   production_budget     100 non-null    int64  \n",
      "dtypes: float64(1), int64(4), object(4)\n",
      "memory usage: 7.2+ KB\n"
     ]
    }
   ],
   "source": [
    "print(\"--- Información de df_users ---\")\n",
    "df_users.info()\n",
    "print(\"\\n--- Información de df_viewing ---\")\n",
    "df_viewing.info()\n",
    "print(\"\\n--- Información de df_movies ---\")\n",
    "df_movies.info()\n",
    "print(\"\\n--- Información de df_series ---\")\n",
    "df_series.info()"
   ]
  },
  {
   "cell_type": "code",
   "execution_count": 3,
   "id": "b4ff6517",
   "metadata": {},
   "outputs": [
    {
     "name": "stdout",
     "output_type": "stream",
     "text": [
      "--- Primeras 5 filas de df_users ---\n",
      "  user_id  age    country subscription_type registration_date  \\\n",
      "0   U0001   21  Argentina             Basic        2022-10-02   \n",
      "1   U0002   44     Mexico          Standard        2022-09-30   \n",
      "2   U0003   20  Argentina          Standard        2023-01-24   \n",
      "3   U0004   39       Peru          Standard        2022-12-15   \n",
      "4   U0005   28   Colombia             Basic        2022-05-19   \n",
      "\n",
      "   total_watch_time_hours  \n",
      "0                    58.0  \n",
      "1                    75.3  \n",
      "2                   360.0  \n",
      "3                   513.0  \n",
      "4                   192.8  \n",
      "\n",
      "--- Primeras 5 filas de df_viewing ---\n",
      "  session_id user_id content_id  watch_date  watch_duration_minutes  \\\n",
      "0    S000001   U0001       S001  2024-02-16                       9   \n",
      "1    S000002   U0001       M110  2024-08-06                      30   \n",
      "2    S000003   U0001       S005  2024-03-20                      18   \n",
      "3    S000004   U0001       M105  2024-02-24                      77   \n",
      "4    S000005   U0001       M148  2024-08-18                      47   \n",
      "\n",
      "   completion_percentage device_type quality_level  \n",
      "0                   18.8     Desktop            4K  \n",
      "1                   23.6    Smart TV            SD  \n",
      "2                   65.3     Desktop            4K  \n",
      "3                   74.4      Mobile            HD  \n",
      "4                   30.1    Smart TV            4K  \n",
      "\n",
      "--- Primeras 5 filas de df_movies ---\n",
      "  content_id           title                    genre  duration_minutes  \\\n",
      "0       M001  Advanced World  [Sci-Fi, Horror, Drama]               179   \n",
      "1       M002   Neural Signal      [Animation, Horror]               146   \n",
      "2       M003       An Stream                 [Action]               102   \n",
      "3       M004  Binary Journey  [Thriller, Documentary]               146   \n",
      "4       M005       Lost Data        [Horror, Romance]               169   \n",
      "\n",
      "   release_year  rating  views_count  production_budget  \n",
      "0          2020     3.5        66721          220088717  \n",
      "1          2021     2.8        11128           23593231  \n",
      "2          2023     1.9        75949           83166461  \n",
      "3          2022     3.0        85958           46298444  \n",
      "4          2022     4.7        56808           67293750  \n",
      "\n",
      "--- Primeras 5 filas de df_series ---\n",
      "  content_id              title              genre  seasons  \\\n",
      "0       S001  The Investigators            [Crime]        7   \n",
      "1       S002  The Investigators           [Sci-Fi]        7   \n",
      "2       S003    System Archives      [Documentary]        4   \n",
      "3       S004     Cyber Archives  [Comedy, Romance]        2   \n",
      "4       S005     The Scientists    [Action, Drama]        5   \n",
      "\n",
      "           episodes_per_season  avg_episode_duration  rating  total_views  \\\n",
      "0   [8, 14, 7, 17, 12, 13, 18]                    50     1.3        50315   \n",
      "1  [16, 12, 14, 14, 23, 9, 24]                    20     4.4       351932   \n",
      "2               [9, 7, 21, 14]                    44     2.8        78137   \n",
      "3                       [8, 6]                    58     2.2        58071   \n",
      "4           [22, 14, 6, 14, 9]                    29     4.4        76998   \n",
      "\n",
      "   production_budget  \n",
      "0           44041273  \n",
      "1          126866932  \n",
      "2           56625408  \n",
      "3           47182636  \n",
      "4          327965922  \n"
     ]
    }
   ],
   "source": [
    "print(\"--- Primeras 5 filas de df_users ---\")\n",
    "print(df_users.head())\n",
    "print(\"\\n--- Primeras 5 filas de df_viewing ---\")\n",
    "print(df_viewing.head())\n",
    "print(\"\\n--- Primeras 5 filas de df_movies ---\")\n",
    "print(df_movies.head())\n",
    "print(\"\\n--- Primeras 5 filas de df_series ---\")\n",
    "print(df_series.head())"
   ]
  },
  {
   "cell_type": "markdown",
   "id": "bbf7156c",
   "metadata": {},
   "source": [
    "## Data Cleaning"
   ]
  },
  {
   "cell_type": "code",
   "execution_count": 5,
   "id": "07087925",
   "metadata": {},
   "outputs": [
    {
     "name": "stdout",
     "output_type": "stream",
     "text": [
      "Date columns successfully converted.\n"
     ]
    }
   ],
   "source": [
    "# Convert 'registration_date' to datetime in the users DataFrame\n",
    "df_users['registration_date'] = pd.to_datetime(df_users['registration_date'])\n",
    "\n",
    "# Convert 'watch_date' to datetime in the viewing_sessions DataFrame\n",
    "df_viewing['watch_date'] = pd.to_datetime(df_viewing['watch_date'])\n",
    "\n",
    "print(\"Date columns successfully converted.\")"
   ]
  },
  {
   "cell_type": "code",
   "execution_count": 6,
   "id": "20365388",
   "metadata": {},
   "outputs": [
    {
     "name": "stdout",
     "output_type": "stream",
     "text": [
      "Combined DataFrame created successfully.\n",
      "\n",
      "First 5 rows of the combined DataFrame:\n",
      "  user_id  age    country subscription_type registration_date  \\\n",
      "0   U0001   21  Argentina             Basic        2022-10-02   \n",
      "1   U0001   21  Argentina             Basic        2022-10-02   \n",
      "2   U0001   21  Argentina             Basic        2022-10-02   \n",
      "3   U0001   21  Argentina             Basic        2022-10-02   \n",
      "4   U0001   21  Argentina             Basic        2022-10-02   \n",
      "\n",
      "   total_watch_time_hours session_id content_id watch_date  \\\n",
      "0                    58.0    S000001       S001 2024-02-16   \n",
      "1                    58.0    S000002       M110 2024-08-06   \n",
      "2                    58.0    S000003       S005 2024-03-20   \n",
      "3                    58.0    S000004       M105 2024-02-24   \n",
      "4                    58.0    S000005       M148 2024-08-18   \n",
      "\n",
      "   watch_duration_minutes  completion_percentage device_type quality_level  \n",
      "0                       9                   18.8     Desktop            4K  \n",
      "1                      30                   23.6    Smart TV            SD  \n",
      "2                      18                   65.3     Desktop            4K  \n",
      "3                      77                   74.4      Mobile            HD  \n",
      "4                      47                   30.1    Smart TV            4K  \n",
      "\n",
      "Information of the new combined DataFrame:\n",
      "<class 'pandas.core.frame.DataFrame'>\n",
      "RangeIndex: 222785 entries, 0 to 222784\n",
      "Data columns (total 13 columns):\n",
      " #   Column                  Non-Null Count   Dtype         \n",
      "---  ------                  --------------   -----         \n",
      " 0   user_id                 222785 non-null  object        \n",
      " 1   age                     222785 non-null  int64         \n",
      " 2   country                 222785 non-null  object        \n",
      " 3   subscription_type       222785 non-null  object        \n",
      " 4   registration_date       222785 non-null  datetime64[ns]\n",
      " 5   total_watch_time_hours  222785 non-null  float64       \n",
      " 6   session_id              222785 non-null  object        \n",
      " 7   content_id              222785 non-null  object        \n",
      " 8   watch_date              222785 non-null  datetime64[ns]\n",
      " 9   watch_duration_minutes  222785 non-null  int64         \n",
      " 10  completion_percentage   222785 non-null  float64       \n",
      " 11  device_type             222785 non-null  object        \n",
      " 12  quality_level           222785 non-null  object        \n",
      "dtypes: datetime64[ns](2), float64(2), int64(2), object(7)\n",
      "memory usage: 22.1+ MB\n"
     ]
    }
   ],
   "source": [
    "# Merge df_users and df_viewing on the 'user_id' column\n",
    "df_combined = pd.merge(df_users, df_viewing, on='user_id', how='inner')\n",
    "\n",
    "print(\"Combined DataFrame created successfully.\")\n",
    "print(\"\\nFirst 5 rows of the combined DataFrame:\")\n",
    "print(df_combined.head())\n",
    "\n",
    "print(\"\\nInformation of the new combined DataFrame:\")\n",
    "df_combined.info()"
   ]
  },
  {
   "cell_type": "markdown",
   "id": "4fb75e14",
   "metadata": {},
   "source": [
    "A pd.merge() is essential because it links your data together.\n",
    "\n",
    "The raw files you have are separate and can't be analyzed together. For example, df_users has a user's age and country, but it doesn't know what they watched. df_viewing knows what content was watched, but it doesn't know the user's age.\n",
    "\n",
    "pd.merge() solves this by using a shared column—the user_id—to combine the tables. This creates a new, single table that connects every user's personal details to every single one of their viewing sessions."
   ]
  },
  {
   "cell_type": "markdown",
   "id": "dc2dbff0",
   "metadata": {},
   "source": [
    "### 1. Descriptive Metrics: Data Summary"
   ]
  },
  {
   "cell_type": "code",
   "execution_count": 8,
   "id": "f63eca90",
   "metadata": {},
   "outputs": [
    {
     "name": "stdout",
     "output_type": "stream",
     "text": [
      "--- Summary of Key Metrics ---\n",
      "                 age  watch_duration_minutes  completion_percentage  \\\n",
      "count  222785.000000           222785.000000          222785.000000   \n",
      "mean       41.538551               78.907871              78.384990   \n",
      "std        13.966006               45.007097              21.462752   \n",
      "min        18.000000                2.000000              10.000000   \n",
      "25%        29.000000               37.000000              66.300000   \n",
      "50%        42.000000               79.000000              84.500000   \n",
      "75%        54.000000              115.000000              96.000000   \n",
      "max        65.000000              180.000000             100.000000   \n",
      "\n",
      "       total_watch_time_hours  \n",
      "count           222785.000000  \n",
      "mean               352.365682  \n",
      "std                232.188045  \n",
      "min                  9.800000  \n",
      "25%                169.500000  \n",
      "50%                324.100000  \n",
      "75%                481.200000  \n",
      "max               1093.100000  \n"
     ]
    }
   ],
   "source": [
    "# Combine movie and series DataFrames into a single content DataFrame\n",
    "df_content = pd.concat([df_movies, df_series], ignore_index=True)\n",
    "\n",
    "# Merge df_combined (users + sessions) with the new df_content\n",
    "df_final = pd.merge(df_combined, df_content, on='content_id', how='inner')\n",
    "\n",
    "# Analyze key metrics of the final DataFrame\n",
    "print(\"--- Summary of Key Metrics ---\")\n",
    "print(df_final[['age', 'watch_duration_minutes', 'completion_percentage', 'total_watch_time_hours']].describe())"
   ]
  },
  {
   "cell_type": "markdown",
   "id": "dc37981a",
   "metadata": {},
   "source": [
    "### 2. Analysis by Category\n"
   ]
  },
  {
   "cell_type": "code",
   "execution_count": 9,
   "id": "b47614c7",
   "metadata": {},
   "outputs": [
    {
     "name": "stdout",
     "output_type": "stream",
     "text": [
      "--- Average Metrics by Subscription Type ---\n",
      "  subscription_type  watch_duration_minutes  completion_percentage  \\\n",
      "0             Basic               68.585605              68.284554   \n",
      "1           Premium               88.342635              87.893649   \n",
      "2          Standard               80.000802              79.217029   \n",
      "\n",
      "   total_watch_time_hours  \n",
      "0              258.526403  \n",
      "1              507.173589  \n",
      "2              303.058755  \n"
     ]
    }
   ],
   "source": [
    "# Group by subscription type and calculate average metrics\n",
    "df_subscription_summary = df_final.groupby('subscription_type').agg({\n",
    "    'watch_duration_minutes': 'mean',\n",
    "    'completion_percentage': 'mean',\n",
    "    'total_watch_time_hours': 'mean'\n",
    "}).reset_index()\n",
    "\n",
    "print(\"--- Average Metrics by Subscription Type ---\")\n",
    "print(df_subscription_summary)"
   ]
  }
 ],
 "metadata": {
  "kernelspec": {
   "display_name": ".venv",
   "language": "python",
   "name": "python3"
  },
  "language_info": {
   "codemirror_mode": {
    "name": "ipython",
    "version": 3
   },
   "file_extension": ".py",
   "mimetype": "text/x-python",
   "name": "python",
   "nbconvert_exporter": "python",
   "pygments_lexer": "ipython3",
   "version": "3.13.2"
  }
 },
 "nbformat": 4,
 "nbformat_minor": 5
}
