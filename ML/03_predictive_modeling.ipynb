{
 "cells": [
  {
   "cell_type": "code",
   "execution_count": 1,
   "id": "877489b3",
   "metadata": {},
   "outputs": [
    {
     "name": "stdout",
     "output_type": "stream",
     "text": [
      "DataFrame final cargado exitosamente.\n"
     ]
    }
   ],
   "source": [
    "import pandas as pd\n",
    "import numpy as np\n",
    "from sklearn.model_selection import train_test_split\n",
    "from sklearn.ensemble import RandomForestClassifier\n",
    "from sklearn.metrics import accuracy_score, classification_report\n",
    "from sklearn.preprocessing import OneHotEncoder\n",
    "\n",
    "\n",
    "try:\n",
    "    df_final = pd.read_csv('../data/Processed/df_final.csv')\n",
    "    print(\"DataFrame final cargado exitosamente.\")\n",
    "except FileNotFoundError:\n",
    "    print(\"Error: El archivo 'df_final.csv' no se encontró. Asegúrate de que tu ruta es correcta.\")"
   ]
  },
  {
   "cell_type": "code",
   "execution_count": 48,
   "id": "c504ae8f",
   "metadata": {},
   "outputs": [
    {
     "name": "stdout",
     "output_type": "stream",
     "text": [
      "Distribución de 'retained':\n",
      "retained\n",
      "0    121807\n",
      "1    100978\n",
      "Name: count, dtype: int64\n",
      "Proporción de 'retained': 0.45\n"
     ]
    }
   ],
   "source": [
    "# Simular la variable 'retained' si total_watch_time_hours > media\n",
    "mean_watch_time = df_final['total_watch_time_hours'].mean()\n",
    "df_final['retained'] = (df_final['total_watch_time_hours'] > mean_watch_time).astype(int)\n",
    "\n",
    "# Verificar la distribución de la variable objetivo\n",
    "print(\"Distribución de 'retained':\")\n",
    "print(df_final['retained'].value_counts())\n",
    "print(f\"Proporción de 'retained': {df_final['retained'].mean():.2f}\")"
   ]
  },
  {
   "cell_type": "code",
   "execution_count": 36,
   "id": "bee7d1da",
   "metadata": {},
   "outputs": [],
   "source": [
    "encoder = OneHotEncoder(sparse_output=False, drop='first')\n",
    "cluster_encoded = encoder.fit_transform(df_final[['cluster']])\n",
    "cluster_df = pd.DataFrame(cluster_encoded, columns=encoder.get_feature_names_out(['cluster']))"
   ]
  },
  {
   "cell_type": "code",
   "execution_count": 37,
   "id": "995f672e",
   "metadata": {},
   "outputs": [],
   "source": [
    "df_final = pd.concat([df_final.reset_index(drop=True), cluster_df.reset_index(drop=True)], axis=1)\n"
   ]
  },
  {
   "cell_type": "code",
   "execution_count": 38,
   "id": "3591e4dd",
   "metadata": {},
   "outputs": [],
   "source": [
    "features = ['age', 'watch_duration_minutes', 'completion_percentage', 'cluster_1', 'cluster_2']\n",
    "X = df_final[features]\n",
    "# Variable objetivo (y)\n",
    "y = df_final['retained']"
   ]
  },
  {
   "cell_type": "code",
   "execution_count": 39,
   "id": "d514e2d8",
   "metadata": {},
   "outputs": [],
   "source": [
    "X_train, X_test, y_train, y_test = train_test_split(X, y, test_size=0.2, random_state=42)\n"
   ]
  },
  {
   "cell_type": "code",
   "execution_count": null,
   "id": "596614ea",
   "metadata": {},
   "outputs": [
    {
     "name": "stdout",
     "output_type": "stream",
     "text": [
      "\n",
      "Modelo de Random Forest entrenado exitosamente.\n"
     ]
    }
   ],
   "source": [
    "model = RandomForestClassifier(n_estimators=100, random_state=42)\n",
    "model.fit(X_train, y_train)\n",
    "print(\"\\nModelo de Random Forest entrenado exitosamente.\")"
   ]
  },
  {
   "cell_type": "code",
   "execution_count": 42,
   "id": "55dc4365",
   "metadata": {},
   "outputs": [],
   "source": [
    "y_pred = model.predict(X_test)\n",
    "accuracy = accuracy_score(y_test, y_pred)"
   ]
  },
  {
   "cell_type": "code",
   "execution_count": 43,
   "id": "f9277ac6",
   "metadata": {},
   "outputs": [
    {
     "name": "stdout",
     "output_type": "stream",
     "text": [
      "\n",
      "--- Métricas de Evaluación del Modelo ---\n",
      "Accuracy (Precisión): 0.62\n",
      "\n",
      "Reporte de Clasificación:\n",
      "              precision    recall  f1-score   support\n",
      "\n",
      "           0       0.64      0.68      0.66     24447\n",
      "           1       0.58      0.54      0.56     20110\n",
      "\n",
      "    accuracy                           0.62     44557\n",
      "   macro avg       0.61      0.61      0.61     44557\n",
      "weighted avg       0.62      0.62      0.62     44557\n",
      "\n"
     ]
    }
   ],
   "source": [
    "print(\"\\n--- Métricas de Evaluación del Modelo ---\")\n",
    "print(f\"Accuracy (Precisión): {accuracy:.2f}\")\n",
    "print(\"\\nReporte de Clasificación:\")\n",
    "print(classification_report(y_test, y_pred))"
   ]
  },
  {
   "cell_type": "code",
   "execution_count": 44,
   "id": "a92b9d51",
   "metadata": {},
   "outputs": [
    {
     "name": "stdout",
     "output_type": "stream",
     "text": [
      "\n",
      "--- Importancia de las Variables del Modelo (Feature Importance) ---\n",
      "                 Variable  Importancia\n",
      "2   completion_percentage     0.442449\n",
      "1  watch_duration_minutes     0.309416\n",
      "0                     age     0.158399\n",
      "3               cluster_1     0.063969\n",
      "4               cluster_2     0.025767\n"
     ]
    }
   ],
   "source": [
    "print(\"\\n--- Importancia de las Variables del Modelo (Feature Importance) ---\")\n",
    "feature_importance = pd.DataFrame({\n",
    "    'Variable': features,\n",
    "    'Importancia': model.feature_importances_\n",
    "}).sort_values(by='Importancia', ascending=False)\n",
    "print(feature_importance)"
   ]
  }
 ],
 "metadata": {
  "kernelspec": {
   "display_name": ".venv",
   "language": "python",
   "name": "python3"
  },
  "language_info": {
   "codemirror_mode": {
    "name": "ipython",
    "version": 3
   },
   "file_extension": ".py",
   "mimetype": "text/x-python",
   "name": "python",
   "nbconvert_exporter": "python",
   "pygments_lexer": "ipython3",
   "version": "3.13.2"
  }
 },
 "nbformat": 4,
 "nbformat_minor": 5
}
