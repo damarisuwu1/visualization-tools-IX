{
 "cells": [
  {
   "cell_type": "markdown",
   "id": "d3b2f99c",
   "metadata": {},
   "source": [
    "# Files processing for the VMI project"
   ]
  },
  {
   "cell_type": "code",
   "execution_count": null,
   "id": "e0014fc7",
   "metadata": {},
   "outputs": [],
   "source": [
    "import pandas as pd, json, csv"
   ]
  },
  {
   "cell_type": "code",
   "execution_count": null,
   "id": "8d17ac8f",
   "metadata": {},
   "outputs": [],
   "source": [
    "# Variables\n",
    "\n",
    "file_path = '../data/tech_salaries.csv'\n",
    "table = 'salaries'"
   ]
  },
  {
   "cell_type": "markdown",
   "id": "0de42955",
   "metadata": {},
   "source": [
    "## Method A"
   ]
  },
  {
   "cell_type": "code",
   "execution_count": null,
   "id": "64c030cf",
   "metadata": {},
   "outputs": [],
   "source": [
    "def leer():\n",
    "    with open(file_path, newline='', mode='r') as file:\n",
    "        csv_file = csv.DictReader(file)\n",
    "        for row in csv_file:\n",
    "            yield row\n",
    "\n",
    "def comprobar(dictionary: dict):\n",
    "    if table == \"users\":\n",
    "        columns = ['user_id', 'age', 'country', 'subscription_type', 'registration_date', 'total_watch_time_hours']\n",
    "        data_types = [str, int, str, str, str, float]\n",
    "        processed_dict = transform_types(dictionary, columns, data_types)\n",
    "        return processed_dict\n",
    "    else:\n",
    "        columns = ['session_id','user_id', 'content_id', 'watch_date', 'watch_duration_minutes', 'completion_percentage', 'device_type', 'quality_level']\n",
    "        data_types = [str, str, str, str, int, float, str, str]\n",
    "        processed_dict = transform_types(dictionary, columns, data_types)\n",
    "        return processed_dict\n",
    "\n",
    "def preparar(dictionary: dict):\n",
    "    new_dict = comprobar(dictionary)\n",
    "    payload_body = {\n",
    "        'table': table,\n",
    "        'data': new_dict\n",
    "    }\n",
    "    return payload_body\n",
    "\n",
    "\n",
    "def enviar(dictionary: dict):\n",
    "    dictionary = preparar(dictionary)\n",
    "    response = print(f\"Se envió correctamente {dictionary}\")\n",
    "    return response\n",
    "\n",
    "if __name__ == '__main__':\n",
    "    for dictionary in leer():\n",
    "        enviar(dictionary)"
   ]
  },
  {
   "cell_type": "markdown",
   "id": "52d3b9f2",
   "metadata": {},
   "source": [
    "## Method B"
   ]
  },
  {
   "cell_type": "code",
   "execution_count": null,
   "id": "f88bd0ef",
   "metadata": {},
   "outputs": [],
   "source": [
    "def leer():\n",
    "    df_csv = pd.read_csv(file_path)\n",
    "    return df_csv\n",
    "\n",
    "def comprobar():\n",
    "    df = leer()\n",
    "    columns = list(df.columns)\n",
    "    if table == \"users\":\n",
    "        data_types = [str, int, str, str, str, float]\n",
    "        for column in columns:\n",
    "            data_type = data_types.pop(0)\n",
    "            df = df.astype({column : data_type})\n",
    "        df = df.to_json(orient='records')\n",
    "        df_processed = json.loads(df)\n",
    "        for dictionary in df_processed:\n",
    "            yield dictionary\n",
    "    else:\n",
    "        data_types = [str, str, str, str, int, float, str, str]\n",
    "        for column in columns:\n",
    "            data_type = data_types.pop(0)\n",
    "            df = df.astype({column : data_type})\n",
    "        df = df.to_json(orient='records')\n",
    "        df_processed = json.loads(df)\n",
    "        for dictionary in df_processed:\n",
    "            yield dictionary\n",
    "\n",
    "def preparar(dictionary: dict):\n",
    "    payload_body = {\n",
    "        'table': table,\n",
    "        'data': dictionary\n",
    "    }\n",
    "    return payload_body\n",
    "\n",
    "def enviar(dictionary: dict):\n",
    "    response= preparar(dictionary)\n",
    "    print(f\"Se ha enviado {response}\")\n",
    "\n",
    "if __name__ == '__main__':\n",
    "    for dictionary in comprobar():\n",
    "        enviar(dictionary)"
   ]
  },
  {
   "cell_type": "markdown",
   "id": "d8c16a54",
   "metadata": {},
   "source": [
    "## Method C"
   ]
  },
  {
   "cell_type": "code",
   "execution_count": null,
   "id": "09bc6426",
   "metadata": {},
   "outputs": [],
   "source": [
    "def leer():\n",
    "    with open(file_path,'r') as file:\n",
    "        df_json = pd.read_csv(file)\n",
    "        return df_json\n",
    "\n",
    "def convertir_columnas():\n",
    "    df = leer()\n",
    "    columnas = list(df.columns)\n",
    "    if table == \"users\":\n",
    "        data_types = [str, int, str, str, str, float]\n",
    "        for column in columnas:\n",
    "            item = data_types.pop(0)\n",
    "            df = df.astype({column: item})\n",
    "        df_processed = df.to_json(orient='records')\n",
    "        json_processed = json.loads(df_processed)\n",
    "        return json_processed\n",
    "    else:\n",
    "        data_types = [str, str, str, str, int, float, str, str]\n",
    "        for column in columnas:\n",
    "            item = data_types.pop(0)\n",
    "            df = df.astype({column: item})\n",
    "        df_processed = df.to_json(orient='records')\n",
    "        json_processed = json.loads(df_processed)\n",
    "        return json_processed\n",
    "\n",
    "def preparar():\n",
    "    data = convertir_columnas()\n",
    "    payload_body = {\n",
    "    'table': table,\n",
    "    'data': data\n",
    "    }\n",
    "    return payload_body    \n",
    "\n",
    "def enviar():\n",
    "    response = preparar()\n",
    "    print(f\"¡Se envío correctamente la siguiente información!:\\n {response}\")\n",
    "        \n",
    "if __name__ == '__main__':\n",
    "    enviar()"
   ]
  },
  {
   "cell_type": "markdown",
   "id": "3c3de5e3",
   "metadata": {},
   "source": [
    "## Method D"
   ]
  },
  {
   "cell_type": "code",
   "execution_count": null,
   "id": "83df92a7",
   "metadata": {},
   "outputs": [],
   "source": [
    "def leer():\n",
    "    with open(file_path,'r') as file:\n",
    "        json_data = json.load(file)[data]\n",
    "    for dictionary in json_data:\n",
    "        yield dictionary\n",
    "def comprobar(dictionary:dict):\n",
    "    if data == 'movies':\n",
    "        llaves_permitidas = ['_id','title','genre','duration_minutes','release_year','rating','views_count','production_budget']\n",
    "        data_types = [str, str, list, int, int, float, int, int]\n",
    "        payload_data = transform_types(dictionary, llaves_permitidas, data_types)\n",
    "        return payload_data\n",
    "    elif data == 'series':\n",
    "        llaves_permitidas = ['_id','title','genre','seasons','episodes_per_season','avg_episode_duration','rating','total_views', 'production_budget']\n",
    "        data_types = [str, str, list, int, list, int, float, int, int]\n",
    "        payload_data = transform_types(dictionary, llaves_permitidas, data_types)\n",
    "        return payload_data\n",
    "\n",
    "def preparar(dictionary:str):\n",
    "    new_dict = comprobar(dictionary)\n",
    "    payload_body = {\n",
    "        'collection': data,\n",
    "        'data': new_dict\n",
    "    }\n",
    "    return payload_body\n",
    "\n",
    "def enviar(dictionary):\n",
    "    dictionary = preparar(dictionary)\n",
    "    to_API = dictionary\n",
    "    response = print(f\"Se envió correctamente {to_API}\")\n",
    "    return response\n",
    "    \n",
    "    \n",
    "if __name__ == '__main__':\n",
    "    for dictionary in leer():\n",
    "        enviar(dictionary)"
   ]
  }
 ],
 "metadata": {
  "kernelspec": {
   "display_name": "Python 3",
   "language": "python",
   "name": "python3"
  },
  "language_info": {
   "name": "python",
   "version": "3.13.1"
  }
 },
 "nbformat": 4,
 "nbformat_minor": 5
}
